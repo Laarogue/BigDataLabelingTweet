{
 "cells": [
  {
   "cell_type": "markdown",
   "metadata": {},
   "source": [
    "# Modèle linéaire\n",
    "\n",
    "Considérons la cas classique d'une fonction affine :\n",
    "\n",
    "$$y=ax+b$$\n",
    "\n",
    "Ici, $a$ et $b$ sont des réels. Ces deux nombres définissent entièrement la courbe et permet donc d'obtenir une relation **affine** entre $x$ et $y$. En statistique, cette relation est à la base des modèles dit **linéaires**, où une variable réponse se définit comme une somme de variables explicatives où chacune de ces dernières sont multipliés par un coefficient.\n",
    "\n",
    "\n",
    "## Modèle linéaire simple\n",
    "\n",
    "![](https://upload.wikimedia.org/wikipedia/commons/thumb/3/3a/Linear_regression.svg/438px-Linear_regression.svg.png)\n",
    "\n",
    "Dans le modèle linéaire simple (une seule variable explicative), on suppose que la variable réponse suit le modèle suivant :\n",
    "\n",
    "$$y_i=\\beta_0 + \\beta_1 x_i + \\varepsilon_i$$\n",
    "\n",
    "On remarque la ressemblance avec la fonction affine présentée ci-dessus. La différence réside dans l'existence du terme aléatoire (appelé bruit) $\\varepsilon_i$. Afin de considérer le modèle, il est nécessaire de se placer sous les hypothèses suivantes\n",
    "\n",
    "$$(\\mathcal{H}) : \\left\\{\\begin{matrix}\n",
    "\\mathbb{E}[\\varepsilon_i]=0\\\\ \n",
    "\\text{Cov}(\\varepsilon_i, \\varepsilon_j)=\\delta_{ij} \\sigma^2\n",
    "\\end{matrix}\\right.$$\n",
    "Les différents éléments qui interviennent sont :\n",
    "\n",
    "- $\\beta_0$ : l'ordonnée à l'origine (nommée *intercept*)\n",
    "- $\\beta_1$ : le coefficient directeur\n",
    "- $x_i$ : l'observation $i$\n",
    "- $y_i$ : le $i$-ème prix\n",
    "- $\\varepsilon_i$ : le bruit aléatoire liée à la $i$-ème observation\n",
    "\n",
    "La solution peut se calculer facilement via les formules fermées suivantes :\n",
    "\n",
    "$$\\hat{\\beta}_1=\\frac{\\sum_{i=1}^n (x_i - \\bar{x})(y_i - \\bar{y})}{\\sum_{i=1}^n (x_i - \\bar{x})^2} \\qquad \\hat{\\beta}_0 = \\hat{y} - \\hat{\\beta}_1 \\bar{x}$$\n",
    "\n",
    "## Modèle linéaire multiple\n",
    "\n",
    "Dans le cas multiple (pour $p$ variables explicatives), pour la $i$-ème observation, le modèle s'écrit :\n",
    "\n",
    "$$y_i= \\beta_0 + \\sum_{j=1}^p \\beta_j x_{ij} + \\varepsilon_i$$\n",
    "\n",
    "Ainsi, une observation $x_i$ n'est plus une valeur, mais un **vecteur** $(x_{i1}, \\dots, x_{ip})$. Il est plus commode de regrouper ces prix $y_i$ et ces vecteurs d'observations $x_i$ dans des matrices :\n",
    "\n",
    "$$Y=X \\beta + \\varepsilon$$\n",
    "\n",
    "Sous les hypothèses équivalentes du modèle simple en plus grand dimension\n",
    "\n",
    "$$(\\mathcal{H}) : \\left\\{\\begin{matrix}\n",
    "\\text{rank}(X)=p\\\\ \n",
    "\\mathbb{E}[\\varepsilon]=0 \\text{ et }\\text{Var}(\\varepsilon)=\\sigma^2 I_p\n",
    "\\end{matrix}\\right.$$\n",
    "\n",
    "Les différents éléments qui interviennent sont :\n",
    "\n",
    "- $\\beta$ : le vecteur directeur\n",
    "- $X$ : la matrice des observations\n",
    "- $Y$ : le vecteur de prix\n",
    "- $\\varepsilon$ : le vecteur de bruit\n",
    "\n",
    "Avec $X=( \\mathbf{1}, X_1, \\dots, X_n)$, $Y=(y_1, \\dots, y_n)^\\top$ et $\\varepsilon=(\\varepsilon_1, \\dots, \\varepsilon_n)^\\top$. La solution des MCO (Moindres Carrés Ordinaires) est alors :\n",
    "\n",
    "$$\\hat{\\beta}= (X^\\top X)^{-1} X^\\top Y$$\n",
    "\n",
    "Vous pouvez d'ailleurs faire la démonstration de votre coté ! Pour plus d'information mathématiques, le portail de wikipédia qui est très bien fait : [lien ici](https://fr.wikipedia.org/wiki/Portail:Probabilit%C3%A9s_et_statistiques)"
   ]
  },
  {
   "cell_type": "markdown",
   "metadata": {},
   "source": [
    "# Implémenter une régression linéaire \n"
   ]
  },
  {
   "cell_type": "code",
   "execution_count": 31,
   "metadata": {},
   "outputs": [],
   "source": [
    "#importer vos librairies \n",
    "import numpy as np\n",
    "import pandas as pd\n",
    "import seaborn as sns\n",
    "import matplotlib.pyplot as plt\n",
    "from sklearn.model_selection import train_test_split\n",
    "from sklearn.linear_model import LinearRegression\n",
    "sns.set()"
   ]
  },
  {
   "cell_type": "code",
   "execution_count": 32,
   "metadata": {},
   "outputs": [
    {
     "name": "stdout",
     "output_type": "stream",
     "text": [
      "   listing_id         day                       created  available  \\\n",
      "0     9810829  2018-12-08  2018-09-27 06:14:10.000+0000       True   \n",
      "1     9810829  2018-12-08  2018-09-26 19:34:02.000+0000       True   \n",
      "2    20897010  2018-12-09  2018-09-27 10:38:57.000+0000       True   \n",
      "3    20897010  2018-12-09  2018-09-27 06:10:27.000+0000       True   \n",
      "4    20897010  2018-12-09  2018-09-26 19:30:25.000+0000       True   \n",
      "\n",
      "  local_currency  local_price  min_nights  \n",
      "0            EUR          160           1  \n",
      "1            EUR          160           1  \n",
      "2            EUR          172           2  \n",
      "3            EUR          172           2  \n",
      "4            EUR          172           2  \n",
      "-------------------------------------------\n",
      "   Unnamed: 0  listing_id                                      name  \\\n",
      "0           0    28581061                           La maison Clery   \n",
      "1           1      661961       studio PARIS PLACE EDITH PIAF 75020   \n",
      "2           2     1261705  chambre privée à louer @ paris oberkampf   \n",
      "3           3     1318834            Appartement au coeur du Marais   \n",
      "4           4     1677091                       Lovely & Quiet flat   \n",
      "\n",
      "           type   city                  neighborhood   latitude  longitude  \\\n",
      "0  private_room  Paris             2e arrondissement  48.869292   2.348335   \n",
      "1   entire_home  Paris                           NaN  48.867284   2.403255   \n",
      "2  private_room  Paris                           NaN  48.867894   2.375897   \n",
      "3   entire_home  Paris                    République  48.870370   2.358510   \n",
      "4   entire_home  Paris  Buttes-Chaumont - Belleville  48.874149   2.373700   \n",
      "\n",
      "   person_capacity  beds  bedrooms  bathrooms  is_rebookable  is_new_listing  \\\n",
      "0                1     1         1        2.0          False            True   \n",
      "1                2     1         1        1.0          False           False   \n",
      "2                1     1         1        1.0          False           False   \n",
      "3                3     2         2        1.0          False           False   \n",
      "4                2     1         1        1.0          False           False   \n",
      "\n",
      "   is_fully_refundable  is_host_highly_rated  is_business_travel_ready  \\\n",
      "0                 True                 False                     False   \n",
      "1                 True                  True                     False   \n",
      "2                 True                  True                     False   \n",
      "3                 True                 False                     False   \n",
      "4                 True                  True                     False   \n",
      "\n",
      "   pricing_weekly_factor  pricing_monthly_factor  \n",
      "0                   1.00                    1.00  \n",
      "1                   0.88                    0.69  \n",
      "2                   1.00                    1.00  \n",
      "3                   0.82                    0.48  \n",
      "4                   0.95                    0.90  \n",
      "-------------------------------------------\n",
      "Chargement des données effectué.\n"
     ]
    }
   ],
   "source": [
    "#charger les données \n",
    "#price_availability.csv\n",
    "#listings_final.csv\n",
    "#vérifier si tous les individus ont bien un prix \n",
    "prices = pd.read_csv(\"../Data/price_availability.csv\", sep=\";\")\n",
    "print(prices.head())\n",
    "print(\"-------------------------------------------\")\n",
    "listings = pd.read_csv(\"../Data/listings_final.csv\", sep=\";\")\n",
    "listings = listings.drop(589) \n",
    "print(listings.head())\n",
    "print(\"-------------------------------------------\")\n",
    "print(\"Chargement des données effectué.\")"
   ]
  },
  {
   "cell_type": "markdown",
   "metadata": {},
   "source": [
    "## Données d'entrée"
   ]
  },
  {
   "cell_type": "markdown",
   "metadata": {},
   "source": [
    "L'objectif ici est de charger les données pour créer les matrices $X$ et $Y$ du modèle linéaire. **Attention**, il n'est pas nécessaire de rajouter le vecteur colonne $\\mathbf{1}$ en première colonne, car *scikit-learn* le fait automatiquement !"
   ]
  },
  {
   "cell_type": "code",
   "execution_count": 33,
   "metadata": {},
   "outputs": [
    {
     "name": "stdout",
     "output_type": "stream",
     "text": [
      "     listing_id  person_capacity  bedrooms  bathrooms\n",
      "0      28581061                1         1        2.0\n",
      "1        661961                2         1        1.0\n",
      "2       1261705                1         1        1.0\n",
      "3       1318834                3         2        1.0\n",
      "4       1677091                2         1        1.0\n",
      "..          ...              ...       ...        ...\n",
      "995    28335197                2         0        1.0\n",
      "996    28583013                3         1        1.0\n",
      "997    28628316                4         1        1.0\n",
      "998    28792796                6         2        1.5\n",
      "999    28682896                2         1        1.0\n",
      "\n",
      "[999 rows x 4 columns]\n",
      "[]\n"
     ]
    }
   ],
   "source": [
    "#définir 2 variables de travail\n",
    "#X := les features à utiliser \n",
    "#Y := la target (prix)\n",
    "X = listings.loc[:, [\"listing_id\", \"person_capacity\", \"bedrooms\", \"bathrooms\" ]]\n",
    "Y = []\n",
    "print(X)\n",
    "print(Y)\n"
   ]
  },
  {
   "cell_type": "code",
   "execution_count": 34,
   "metadata": {},
   "outputs": [
    {
     "name": "stdout",
     "output_type": "stream",
     "text": [
      "[  45.94845361   44.47368421   49.          165.           69.77443609\n",
      "   80.56363636   61.10909091  213.32460733  174.02849741  169.\n",
      "  183.0848329   297.76315789  170.           49.95275591   71.13740458\n",
      "  160.          409.54887218   35.06887755   62.13533835  107.37402597\n",
      "  358.12121212  115.          106.71428571   76.06896552  302.\n",
      "   36.58961039   65.48484848  153.25         75.8762089   284.35356201\n",
      "  219.5037594   113.53383459   93.57142857  151.07915567  300.\n",
      "  109.96240602   59.07772021  101.37984496   67.20833333   60.74093264\n",
      "   38.           92.           66.21204188   79.68041237   90.09819121\n",
      "  170.          115.7544757   283.76115486  144.74424552  347.67015707\n",
      "  115.          105.          154.65384615  380.           44.16569201\n",
      "  233.69170984  147.96623377  105.          163.47286822  190.\n",
      "  180.95287958  128.8630491   163.28571429   94.           94.97619048\n",
      "  218.96373057  234.89460154  300.78640777   62.           59.02349869\n",
      "   80.24479167   53.           92.          210.87855297  278.90625\n",
      "  165.          179.67315175  105.71849866   43.84615385  105.15873016\n",
      "  165.          172.67822736  109.           42.86340206  220.\n",
      "  136.57559682  240.          990.          117.          139.25876011\n",
      "  196.03846154  226.           69.          357.44125326   62.3908046\n",
      "  145.67829457  191.34883721  250.          166.328125    239.69726562\n",
      "  199.42746114  220.          180.          371.36363636   59.\n",
      "   58.          315.48717949  220.          190.           86.\n",
      "  132.18897638  277.          149.           69.01550388  245.\n",
      "  161.2357513   210.07792208  216.22857143  252.83854167   59.07731959\n",
      "   81.           60.65091864  380.           73.           36.10742188\n",
      "  180.          184.55208333   92.28132992  135.           74.\n",
      "  210.           40.23498695  258.2767624   238.98416887  130.29320388\n",
      "  155.           92.           29.          122.58717949  141.06994819\n",
      "  228.44155844  145.          135.88020833   76.           98.\n",
      "  184.65879265  144.          115.          409.18085106   48.44041451\n",
      "  420.46456693   47.          186.49807692  220.03084833   89.25848564\n",
      "   79.          183.9507772   159.83507853   83.37730871  156.39746835\n",
      "  104.          195.26705653  132.36363636   43.58115183   45.82945736\n",
      "  170.64935065  158.86627907   25.44473008  202.23514212  176.0839895\n",
      "   91.38659794  109.          261.08638743  192.           96.05714286\n",
      "   74.           80.72440945  170.          440.          321.2987013\n",
      "   68.16358839  101.          270.33678756   30.          112.\n",
      "   57.          435.12670565   88.19895288  489.98035363   68.\n",
      "  150.953125    135.4015544   108.          591.40625      79.\n",
      "   51.72820513   48.39030612  270.          395.          618.\n",
      "   30.           94.82597403  133.8359375   169.85714286  250.\n",
      "  108.          118.19843342  250.          834.96124031   95.45333333\n",
      "  206.14690722   88.65066667 1072.77486911  145.          160.\n",
      "   63.14397906  250.          538.86010363  140.16494845  129.38481675\n",
      "  144.          425.           92.           54.          127.\n",
      "   88.38381201   69.          109.           72.           81.63049096\n",
      "  148.07179487  203.41755319   57.88653846  136.62597403   69.27447217\n",
      "   74.10810811  152.25773196   89.          309.9034749    68.05526316\n",
      "  350.08076923  417.80392157  212.13367609  248.7244898    48.\n",
      "   39.          119.          350.           62.           96.6056701\n",
      "  400.39787798  176.29377432  139.22779923  349.79265092  232.38921002\n",
      "   99.           39.          264.83558994  159.          403.08070866\n",
      "  290.          296.          115.           56.34645669  239.53125\n",
      "   79.          180.          125.          510.07751938  260.94379845\n",
      "  118.78473581  327.96711799   29.          160.          160.\n",
      "   54.10433071   50.64107486   99.          260.          300.33419023\n",
      "   53.50129199  195.72890026  230.          334.           44.66149871\n",
      "   42.          181.04986877   88.98966408  118.71465296   79.10344828\n",
      "   36.          382.62135922   33.4296875    70.70103093   95.484375\n",
      "   42.          311.54580153   51.82337662  328.57699805  105.\n",
      "  130.13648294  250.          309.68911917   77.57772021  105.\n",
      "  196.98455598  149.           74.87743191  215.9375       29.\n",
      "   52.          189.12137203  152.53299492   47.84473684  718.09278351\n",
      "  210.           98.          148.          195.          163.60103627\n",
      "  160.64136126   81.3110687   415.98802395  331.59615385   58.\n",
      "   33.53050398   20.          459.71391076  483.32432432  220.\n",
      "  306.8477842  1500.           98.35695538  275.          195.\n",
      "  114.90421456  184.30628272  277.78552972  240.          168.2248062\n",
      "  326.99232246  386.57751938   60.72307692   66.85299807   50.\n",
      "  115.          203.89312977  137.21204188   49.60159363  142.\n",
      "   32.86082474  180.           21.          520.61895551  115.52173913\n",
      "  121.50259067  135.          188.3203125    89.00773196  494.36538462\n",
      "   81.66153846  251.88824663  238.25918762   58.           47.59585492\n",
      "  240.37764933  347.29166667  145.           53.          134.12532637\n",
      "   78.3685567   794.54663212  447.31538462   69.          489.68911917\n",
      "   89.          433.37958115   89.           30.          255.87548638\n",
      "   51.52785146   97.18372703  375.0268714    47.80577428   48.\n",
      "  278.95287958  221.41015625   70.96899225  221.83333333   62.\n",
      "  151.39790576   75.79895561  159.933687    260.          340.\n",
      "   84.63852243  170.7310705    40.          149.           86.\n",
      "  237.48051948   79.          161.59689922  160.02645503  517.99618321\n",
      "  142.23958333   34.23136247  143.          117.38684211   35.11111111\n",
      "  254.41005803  156.14038462  127.91237113  322.24102564  391.4452975\n",
      "  330.          207.51937984   39.          146.43455497   81.94473684\n",
      "  153.55844156   96.6953125   204.9609375    65.86910995  109.\n",
      "  260.          111.45953003  207.43002545   72.64583333  170.\n",
      "   90.21052632   35.           78.           53.          272.8359375\n",
      "  127.          450.          139.9562982   114.16103896  231.3125\n",
      "   52.89126214   40.97911227 1200.           79.97668394   56.28871391\n",
      "  250.05483029   47.92650919  101.12631579   43.01578947  152.56701031\n",
      "  179.21336761   91.          208.           79.81038961  281.56657963\n",
      "  158.5078534   104.78947368  175.           37.           90.36315789\n",
      "  170.          175.          177.52645503  118.74160207  180.\n",
      "   94.74472169   40.          234.14038462  195.           62.17525773\n",
      "   62.         1200.           43.14368932   68.54947917  239.96303502\n",
      " 1000.          155.12073491  170.           73.07731959  207.69487179\n",
      "   58.72386059  700.           38.51171875   40.69309463  124.7591623\n",
      "  249.06493506   45.66666667   93.18393782  230.72944297  168.52331606\n",
      "  195.          104.70680628   90.264        72.39793282   54.66404199\n",
      "   79.07272727  220.          158.           41.11340206   47.\n",
      "   51.69350649   79.84126984   60.61757106   66.06788512  683.94584139\n",
      "  456.55769231   47.           86.13246753  296.8814433   137.89817232\n",
      "  165.56842105   72.05384615   40.06753247  113.58333333  219.08349515\n",
      "  270.63254593   42.10471204  219.43603133   59.16020672   54.93175853\n",
      "   60.64893617  180.           59.          192.63020833  240.\n",
      "  177.4151436   116.09947644  355.52083333  353.           73.25265957\n",
      "  156.6171875    40.61578947   82.23643411   30.          434.9132948\n",
      "   40.          118.           65.675        59.          204.39276486\n",
      "   41.69712794  161.5503876   474.14258189   57.          409.\n",
      "  130.          168.91395793   79.          307.01547389   60.6873385\n",
      "  529.33418367  135.85677083  170.          900.          261.86046512\n",
      "  160.           85.78608247   47.84031414   68.55844156   17.86372361\n",
      "  350.88565891  176.37075718   32.06266319  108.49226804   17.9766537\n",
      "  160.          140.50895141  871.3657289   249.15028902   39.92307692\n",
      "  850.65633075  470.89267016  102.38157895  158.84473684 1157.74278215\n",
      "  346.41343669   42.          290.          123.63829787  190.\n",
      "  102.          198.22680412  108.56185567  125.26109661   40.\n",
      "  230.01574803  306.13577023  107.47409326  146.57519789  222.8042328\n",
      "  186.17829457  157.           30.           63.           42.\n",
      "   28.31937173  600.          129.17493473   89.           86.77922078\n",
      "  126.30569948  269.53846154   40.           51.01595745  197.65815324\n",
      "  196.58684211  153.3203125   119.34816754  145.90322581   35.40932642\n",
      "  525.          300.          505.61793372   52.          126.32198953\n",
      "   71.01804124   70.43410853  374.62273902  139.17105263   40.10416667\n",
      "  145.16966581  170.          450.          400.           52.74293059\n",
      "   93.70234987  195.          650.          137.          263.125\n",
      "   96.          192.57251908  150.61538462   52.           80.984375\n",
      "  294.18181818  158.91906005  117.          690.99415205  139.95844156\n",
      "   59.           57.59689922  350.           93.35248042  165.\n",
      "  304.84536082  291.86387435   37.21818182  109.421875    152.67792208\n",
      "  115.          128.09043928   61.          242.21052632  198.79533679\n",
      "  114.95833333  345.24806202   78.54736842  226.49222798  410.\n",
      "  119.06349206  725.17578125   79.           57.88947368  164.52196382\n",
      "   70.30989583  122.30490956  170.57989691   68.58461538  202.27154047\n",
      "  252.3126615   153.63116883   59.57948718  135.          184.40789474\n",
      "   72.          611.65803109  156.19693095  164.845953     88.\n",
      "   76.98153034  169.77083333   78.          226.60051546  226.89210526\n",
      "  144.54025974  140.9132948   216.46421663  210.35917313  126.62239583\n",
      "   92.02337662   68.17708333   99.02597403  992.72164948  517.0984456\n",
      " 1000.           85.40682415  250.          199.90503876  250.19379845\n",
      "  274.10485437   74.23320158  297.60309278  197.38085938   89.43307087\n",
      "  250.01298701  161.33159269   60.05263158   78.33595801   93.46475196\n",
      "   42.61658031  190.          111.86458333   66.67560322  148.76804124\n",
      "  241.3003876   330.46875     146.98963731  177.           49.96344648\n",
      "  170.30548303  138.90721649  596.9785575   399.47683398  300.\n",
      "  133.94270833  134.20424403  500.          300.          145.\n",
      "   78.01558442  490.61662198   68.09549072  156.24031008  133.09230769\n",
      "  225.82585752  131.          160.          195.          297.\n",
      "   82.5883905   338.85934489  220.          690.          475.\n",
      "  298.36675462  240.99197861  120.32122371  145.70103093   35.\n",
      "   83.34563107  123.          197.45914397  670.           86.80687831\n",
      "   91.41798942  154.97927461   55.34933333  233.37452471  211.66226913\n",
      "  158.8          87.10416667  317.72845953  119.28759894  323.48429319\n",
      "   94.67783505  289.85796545  122.58461538  160.43766578  127.89405685\n",
      "  140.38381201  237.26041667   35.          962.54025974  111.81443299\n",
      "  183.01151631  256.84334204  207.55363985   24.           39.14750958\n",
      "   29.           35.45436893  999.           26.          163.08505155\n",
      "  199.04483431   52.16410256  184.31168831  135.11227154  989.76377953\n",
      "   40.06701031  806.90909091   25.          125.          180.\n",
      "  517.71235521   69.           59.53439153  170.          203.21025641\n",
      "  527.13867188  119.          186.02906977   40.11488251  204.6342711\n",
      "  240.32882012  255.74904215  250.72093023   65.74418605 1300.\n",
      "  108.95026178  357.7046332   102.31151832  931.65535248  144.42159383\n",
      "   50.50642674  180.          176.86125654  215.          210.02362205\n",
      "   41.           96.11168831   58.13020833  197.68766404   73.78249337\n",
      "  250.          390.16184971   78.07915567  170.          421.97260274\n",
      "  109.71611253  209.62992126  229.35384615  500.30051813  146.\n",
      "  188.57253886  210.          133.61734694  165.46858639  181.24870466\n",
      "  340.81007752  161.83116883  617.13541667  450.           47.66925065\n",
      "   92.57631579   71.46753247  267.9843342    75.37105263  433.40535373\n",
      "   45.18489583  204.95064935  212.07179487 1780.59067358   69.90673575\n",
      "  124.16103896   84.          254.5052356    61.62105263  103.56103896\n",
      "   49.          161.30366492   88.0156658    99.          150.26098191\n",
      "  219.50131926   68.08247423  148.08051948  270.30848329  191.13520408\n",
      "   40.0025641    82.90526316  288.68421053   42.21502591   46.87012987\n",
      "  110.57936508  115.          400.          240.00512821   62.\n",
      "  175.          715.          350.          834.61121857   90.52429668\n",
      "  650.87596899   99.45801527   63.38219895  121.46456693   25.\n",
      "   54.14092141   79.           74.43410853  314.          103.8247012\n",
      "  360.           81.81151832  224.23684211  650.          311.62934363\n",
      "  160.           83.          182.30769231  237.90052356  184.52538071\n",
      "  425.12256809  253.96850394   32.71948052  145.07731959  230.\n",
      "   28.4947644    78.21671018  600.          329.36832061  170.00793651\n",
      "  104.          299.           67.90526316   30.08488064   49.\n",
      "  316.4609375   179.54263566  381.96564885   42.40519481   99.91076115\n",
      "  196.58854167   30.           30.3          40.46391753  143.51181102\n",
      "  257.89556136   89.60789474   36.51937984  176.6824147    99.\n",
      "   68.35142119   36.72093023  117.22572178   40.01542416   62.94010417\n",
      "  114.75773196   59.          139.50793651  143.94973545   82.67101828\n",
      "   60.02610966  221.99738903  124.45052083  470.17408124  650.\n",
      "   81.80851064   53.53002611   57.154047    429.28645833  395.05769231\n",
      "  119.63239075   70.40310078  170.          242.98457584   44.86082474\n",
      "  251.04639175  321.00795756   42.1443299   259.2578125   241.58653846\n",
      "  173.01587302  248.91752577   92.76963351   88.38947368  350.\n",
      "   35.03116883  109.97643979  154.7881137    33.03645833  119.02631579\n",
      "  296.3624031   427.50096712   49.23697917  520.12621359  123.12010444\n",
      "   39.23342175  362.02935421  168.31675393  180.          182.21875\n",
      "   33.           25.          240.           55.96938776  183.68085106\n",
      "  160.22691293   64.25906736  182.44415584  248.84971098   38.50773196\n",
      "  147.75255102  152.86082474   49.18421053   39.50393701]\n"
     ]
    }
   ],
   "source": [
    "#construire l'ensemble de donnée prix \n",
    "#\n",
    "#    INDICE \n",
    "#\n",
    "#itérer votre dataset d'ID \n",
    "#récupérer les prix des ID dans le dataset de prix \n",
    "#il y a plusieurs prix, faites des moyennes ;)  \n",
    "for i, row in X.iterrows():\n",
    "    y = 0\n",
    "    ID = int(row[\"listing_id\"])\n",
    "    subset = prices[prices[\"listing_id\"] == ID]\n",
    "    y = subset[\"local_price\"].mean()\n",
    "    Y.append(y)\n",
    "\n",
    "# /!\\  Ne pas oublier de convertir Y en objet numpy \n",
    "Y = np.asarray(Y)\n",
    "print(Y)"
   ]
  },
  {
   "cell_type": "markdown",
   "metadata": {},
   "source": [
    "En *Machine Learning*, on a l'habitude de couper l'ensemble de données en deux sous-ensembles :\n",
    "\n",
    "- Un ensemble d'entraînement (*train set*), sur lequel le modèle va être calibré.\n",
    "- Un ensemble de test (*test set*), qui ne sera pas utilisé pendant le calibrage mais permettra de vérifier l'aptitude du modèle à généraliser sur de nouvelles observations inconnues.\n",
    "\n",
    "En général, on découpe l'ensemble de données (*split*) en prenant $\\alpha \\%$ de l'ensemble pour entraînement et $1-\\alpha \\%$ comme test. Dans la plus part des cas, on considère que $\\alpha=10,20 ou 30\\%$."
   ]
  },
  {
   "cell_type": "code",
   "execution_count": 5,
   "metadata": {},
   "outputs": [
    {
     "data": {
      "text/plain": [
       "((699, 4), (699,), (300, 4), (300,))"
      ]
     },
     "execution_count": 5,
     "metadata": {},
     "output_type": "execute_result"
    }
   ],
   "source": [
    "#utiliser la méthode split de sklearn en splitant avec un alpha=30 et un random state=42 \n",
    "#zafficher la shape de vos données "
   ]
  },
  {
   "cell_type": "code",
   "execution_count": 35,
   "metadata": {},
   "outputs": [
    {
     "data": {
      "text/plain": [
       "((699, 4), (300, 4), (699,), (300,))"
      ]
     },
     "execution_count": 35,
     "metadata": {},
     "output_type": "execute_result"
    }
   ],
   "source": [
    "X_train, X_test, Y_train, Y_test = train_test_split(X,Y,random_state=42,test_size=0.30)\n",
    "X_train.shape, X_test.shape, Y_train.shape, Y_test.shape"
   ]
  },
  {
   "cell_type": "markdown",
   "metadata": {},
   "source": [
    "## Entraînement"
   ]
  },
  {
   "cell_type": "markdown",
   "metadata": {},
   "source": [
    "Pour information, *scikit-learn* utilise le solveur OLS (Ordinary Least Squares) de *numpy*."
   ]
  },
  {
   "cell_type": "code",
   "execution_count": 6,
   "metadata": {},
   "outputs": [
    {
     "data": {
      "text/plain": [
       "LinearRegression(copy_X=True, fit_intercept=True, n_jobs=None,\n",
       "         normalize=False)"
      ]
     },
     "execution_count": 6,
     "metadata": {},
     "output_type": "execute_result"
    }
   ],
   "source": [
    "#créer l'objet de régression et entrainer le sur notre ensemble d'entraînement\n"
   ]
  },
  {
   "cell_type": "code",
   "execution_count": 36,
   "metadata": {},
   "outputs": [
    {
     "data": {
      "text/plain": [
       "LinearRegression(copy_X=True, fit_intercept=True, n_jobs=None, normalize=False)"
      ]
     },
     "execution_count": 36,
     "metadata": {},
     "output_type": "execute_result"
    }
   ],
   "source": [
    "regr = LinearRegression()\n",
    "regr.fit(X_train.values, Y_train)"
   ]
  },
  {
   "cell_type": "markdown",
   "metadata": {},
   "source": [
    "On affiche le vecteur des coefficients pour interpréter rapidement le modèle."
   ]
  },
  {
   "cell_type": "code",
   "execution_count": 7,
   "metadata": {},
   "outputs": [
    {
     "name": "stdout",
     "output_type": "stream",
     "text": [
      "Coefficients beta_j : \n",
      " [2.47834609e-06 3.23451085e+01 1.43887639e+01 7.75318453e+01]\n",
      "Coefficients INTERCEPT beta_0 : \n",
      " -79.79953133672862\n"
     ]
    }
   ],
   "source": [
    "#afficher les coefficients\n",
    "#que remarquez vous ? \n"
   ]
  },
  {
   "cell_type": "code",
   "execution_count": 39,
   "metadata": {},
   "outputs": [
    {
     "name": "stdout",
     "output_type": "stream",
     "text": [
      "Coefficients beta_j : \n",
      " [2.47834609e-06 3.23451085e+01 1.43887639e+01 7.75318453e+01]\n",
      "----------\n",
      "Coefficients INTERCEPT beta_0 : \n",
      " -79.79953133672856\n"
     ]
    }
   ],
   "source": [
    "print('Coefficients beta_j : \\n', regr.coef_)\n",
    "print('----------')\n",
    "print('Coefficients INTERCEPT beta_0 : \\n', regr.intercept_)"
   ]
  },
  {
   "cell_type": "markdown",
   "metadata": {},
   "source": [
    "## Validation du modèle\n",
    "\n",
    "### Le coefficient de détermination $R^2$\n",
    "\n",
    "Par la suite, nous ferons l'hypothèse de gaussianité sur les bruits. Dans l'idée, nous aimerions obtenir une valeur numérique qui nous indique à quel point la régression linéaire a un sens sur nos données. Pour cela, introduisons les notations suivantes :\n",
    "\n",
    "- $SCT=\\|Y-\\hat{y} \\mathbf{1}\\|^2$ est la somme des carrés totaux\n",
    "- $SCE=\\|\\hat{Y}-\\hat{y} \\mathbf{1}\\|^2$ est la somme des carrés expliqués\n",
    "- $SCR=\\|\\hat{\\varepsilon}\\|^2$ est la somme des carrés résiduels\n",
    "\n",
    "L'idée est de décomposer la somme des carrés totaux comme la somme des carrés que le modèle explique, en plus de la somme des carrés qui sont liés aux résidus (et donc que le modèle ne peut pas expliquer). On voit donc ici l'intérêt de calculer un coefficient à partir du $SCE$. Puisque l'on a la relation suivante :\n",
    "\n",
    "$$SCT=SCE+SCR \\text{ alors } 1=\\frac{SCE}{SCT}+\\frac{SCR}{SCT}$$\n",
    "\n",
    "Plus les résidus sont petits (et donc la régression est \"bonne\"), plus $SCR$ devient petit et donc $SCE$ devient grand. Le schéma inverse s'opère de la même façon. Dans le meilleur des cas, on obtient $SCR=0$ et donc $SCE=SCT$ d'où le premier membre vaut $1$. Dans le cas contraite, $SCE=0$ et automatiquement, le premier membre est nul. C'est ainsi que l'on définit le coefficient de détermination $R^2$ comme \n",
    "$$R^2=\\frac{SCE}{SCT}=1-\\frac{SCR}{SCT}$$\n",
    "Ainsi, $R^2 \\in [0,1]$. Plus $R^2$ est proche de $1$, plus la régression linéaire a du sens. Au contraire, si $R^2$ est proche de $0$, le modèle linéaire possède un faible pouvoir explicatif."
   ]
  },
  {
   "cell_type": "code",
   "execution_count": 8,
   "metadata": {},
   "outputs": [
    {
     "name": "stdout",
     "output_type": "stream",
     "text": [
      "taille du vecteur Y_pred : 999 \n"
     ]
    }
   ],
   "source": [
    "#faire une prediction sur X\n"
   ]
  },
  {
   "cell_type": "code",
   "execution_count": 9,
   "metadata": {},
   "outputs": [
    {
     "name": "stdout",
     "output_type": "stream",
     "text": [
      "Mean squared error: 21320.77\n",
      "R2 : 0.37\n"
     ]
    }
   ],
   "source": [
    "#afficher l'erreur des moindres carrées sur l'ensemble d'entrainement ainsi que le R2\n"
   ]
  },
  {
   "cell_type": "markdown",
   "metadata": {},
   "source": [
    "## Bonus : Analyse de l'homoscédasticité\n",
    "\n",
    "L'analyse de l'homoscédasticité est primordiale : c'est en particulier elle qui nous permet de vérifier, à partir des résidus, si les bruits vérifient bien l'hypothèse $(\\mathcal{H})$. On calcule donc les **résidus studentisés**.\n",
    "\n",
    "$$t_i^*=\\frac{\\hat{\\varepsilon}_i}{\\hat{\\sigma}_{(i)} \\sqrt{1-h_{ii}}}$$\n",
    "Avec $h_{ii}=\\{X(X^\\top X)^{-1} X^\\top\\}_{ii}=H_{ii}$ la matrice de projection sur l'hyperplan des variables. Plus précisément, $H$ est la matrice qui projette $Y$ sur l'espace engendré par les variables, soit $\\hat{Y}=HY$. De même, on considère $\\hat{\\sigma}_{(i)}$ l'estimateur de la variance du bruit en supprimant l'observation $i$ (par une méthode de validation croisée Leave-One-Out que nous ne détaillerons pas ici).\n",
    "\n",
    "Dans ce cas, on peut montrer que les résidus studentisés suivent une loi de Student à $n-p-1$ degrés de liberté."
   ]
  },
  {
   "cell_type": "code",
   "execution_count": 10,
   "metadata": {},
   "outputs": [
    {
     "data": {
      "text/plain": [
       "<matplotlib.legend.Legend at 0x114832208>"
      ]
     },
     "execution_count": 10,
     "metadata": {},
     "output_type": "execute_result"
    },
    {
     "data": {
      "image/png": "[encoded data removed]",
      "text/plain": [
       "<Figure size 1440x864 with 1 Axes>"
      ]
     },
     "metadata": {
      "needs_background": "light"
     },
     "output_type": "display_data"
    }
   ],
   "source": [
    "#analyser le code ci-dessous \n",
    "import scipy\n",
    "Y_pred = regr.predict(X_train)\n",
    "n = X_train.shape[0]\n",
    "p = 4\n",
    "residuals = np.abs(y_train - Y_pred)\n",
    "H = np.matmul(X_train, np.linalg.solve(np.dot(X_train.T, X_train), X_train.T))\n",
    "std_hat = np.dot(residuals, residuals) / (n - p)\n",
    "standart_residuals = np.asarray([residuals[i] / np.sqrt(std_hat * (1 - H[i, i])) for i in range(len(residuals))])\n",
    "student_residuals = np.asarray([ standart_residuals[i] * np.sqrt((n - p - 1) / (n - p - standart_residuals[i]**2)) for i in range(n) ])\n",
    "cook = np.asarray([ H[i, i] * student_residuals[i] / (X_train.shape[1] * (1 - H[i, i])) for i in range(n) ])\n",
    "\n",
    "plt.figure(figsize=(20, 12))\n",
    "plt.subplot(221)\n",
    "plt.scatter(Y_pred, student_residuals, s=12, c=\"white\", edgecolors=\"blue\")\n",
    "plt.plot([min(Y_pred), max(Y_pred)], [ scipy.stats.t.ppf(q=0.975, df=n-p-1), scipy.stats.t.ppf(q=0.975, df=n-p-1)], color=\"green\", alpha=0.6, label=\"Quantile de Student\")\n",
    "plt.title(\"Analyse de l’homoscédasticité\")\n",
    "plt.xlabel(\"Prédictions $\\hat{y}_i$\")\n",
    "plt.ylabel(\"Résidus studentisés $|t_i^*|$\")\n",
    "plt.legend()"
   ]
  },
  {
   "cell_type": "code",
   "execution_count": null,
   "metadata": {},
   "outputs": [],
   "source": []
  }
 ],
 "metadata": {
  "kernelspec": {
   "display_name": "Python 3",
   "language": "python",
   "name": "python3"
  },
  "language_info": {
   "codemirror_mode": {
    "name": "ipython",
    "version": 3
   },
   "file_extension": ".py",
   "mimetype": "text/x-python",
   "name": "python",
   "nbconvert_exporter": "python",
   "pygments_lexer": "ipython3",
   "version": "3.7.6"
  }
 },
 "nbformat": 4,
 "nbformat_minor": 2
}
